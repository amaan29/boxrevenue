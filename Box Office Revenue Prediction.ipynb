{
 "cells": [
  {
   "cell_type": "code",
   "execution_count": 2,
   "id": "1956ce50",
   "metadata": {},
   "outputs": [],
   "source": [
    "import numpy as np\n",
    "import pandas as pd\n",
    "import matplotlib.pyplot as plt\n",
    "import seaborn as sb\n",
    "from sklearn.model_selection import train_test_split\n",
    "from sklearn.preprocessing import LabelEncoder, StandardScaler\n",
    "from sklearn.feature_extraction.text import CountVectorizer\n",
    "from sklearn import metrics\n",
    "from xgboost import XGBRegressor\n",
    "from sklearn import linear_model\n",
    " \n",
    "import warnings\n",
    "warnings.filterwarnings('ignore')"
   ]
  },
  {
   "cell_type": "code",
   "execution_count": 3,
   "id": "8270e44b",
   "metadata": {},
   "outputs": [
    {
     "data": {
      "text/html": [
       "<div>\n",
       "<style scoped>\n",
       "    .dataframe tbody tr th:only-of-type {\n",
       "        vertical-align: middle;\n",
       "    }\n",
       "\n",
       "    .dataframe tbody tr th {\n",
       "        vertical-align: top;\n",
       "    }\n",
       "\n",
       "    .dataframe thead th {\n",
       "        text-align: right;\n",
       "    }\n",
       "</style>\n",
       "<table border=\"1\" class=\"dataframe\">\n",
       "  <thead>\n",
       "    <tr style=\"text-align: right;\">\n",
       "      <th></th>\n",
       "      <th>title</th>\n",
       "      <th>domestic_revenue</th>\n",
       "      <th>world_revenue</th>\n",
       "      <th>distributor</th>\n",
       "      <th>opening_revenue</th>\n",
       "      <th>opening_theaters</th>\n",
       "      <th>budget</th>\n",
       "      <th>MPAA</th>\n",
       "      <th>genres</th>\n",
       "      <th>release_days</th>\n",
       "    </tr>\n",
       "  </thead>\n",
       "  <tbody>\n",
       "    <tr>\n",
       "      <th>0</th>\n",
       "      <td>Star Wars: Episode VIII - The Last Jedi</td>\n",
       "      <td>$620,181,382</td>\n",
       "      <td>$1,332,539,889</td>\n",
       "      <td>Walt Disney Studios Motion Pictures</td>\n",
       "      <td>$220,009,584</td>\n",
       "      <td>4,232</td>\n",
       "      <td>$317,000,000</td>\n",
       "      <td>PG-13</td>\n",
       "      <td>Action,Adventure,Fantasy,Sci-Fi</td>\n",
       "      <td>382</td>\n",
       "    </tr>\n",
       "    <tr>\n",
       "      <th>1</th>\n",
       "      <td>The Fate of the Furious</td>\n",
       "      <td>$226,008,385</td>\n",
       "      <td>$1,236,005,118</td>\n",
       "      <td>Universal Pictures</td>\n",
       "      <td>$98,786,705</td>\n",
       "      <td>4,310</td>\n",
       "      <td>$250,000,000</td>\n",
       "      <td>PG-13</td>\n",
       "      <td>Action,Adventure,Thriller</td>\n",
       "      <td>262</td>\n",
       "    </tr>\n",
       "    <tr>\n",
       "      <th>2</th>\n",
       "      <td>Wonder Woman</td>\n",
       "      <td>$412,563,408</td>\n",
       "      <td>$821,847,012</td>\n",
       "      <td>Warner Bros.</td>\n",
       "      <td>$103,251,471</td>\n",
       "      <td>4,165</td>\n",
       "      <td>$149,000,000</td>\n",
       "      <td>PG-13</td>\n",
       "      <td>Action,Adventure,Fantasy,Sci-Fi,War</td>\n",
       "      <td>217</td>\n",
       "    </tr>\n",
       "    <tr>\n",
       "      <th>3</th>\n",
       "      <td>Guardians of the Galaxy Vol. 2</td>\n",
       "      <td>$389,813,101</td>\n",
       "      <td>$863,756,051</td>\n",
       "      <td>Walt Disney Studios Motion Pictures</td>\n",
       "      <td>$146,510,104</td>\n",
       "      <td>4,347</td>\n",
       "      <td>$200,000,000</td>\n",
       "      <td>PG-13</td>\n",
       "      <td>Action,Adventure,Comedy,Sci-Fi</td>\n",
       "      <td>241</td>\n",
       "    </tr>\n",
       "    <tr>\n",
       "      <th>4</th>\n",
       "      <td>Beauty and the Beast</td>\n",
       "      <td>$504,014,165</td>\n",
       "      <td>$1,263,521,126</td>\n",
       "      <td>Walt Disney Studios Motion Pictures</td>\n",
       "      <td>$174,750,616</td>\n",
       "      <td>4,210</td>\n",
       "      <td>$160,000,000</td>\n",
       "      <td>PG</td>\n",
       "      <td>Family,Fantasy,Musical,Romance</td>\n",
       "      <td>290</td>\n",
       "    </tr>\n",
       "  </tbody>\n",
       "</table>\n",
       "</div>"
      ],
      "text/plain": [
       "                                     title domestic_revenue   world_revenue  \\\n",
       "0  Star Wars: Episode VIII - The Last Jedi     $620,181,382  $1,332,539,889   \n",
       "1                  The Fate of the Furious     $226,008,385  $1,236,005,118   \n",
       "2                             Wonder Woman     $412,563,408    $821,847,012   \n",
       "3           Guardians of the Galaxy Vol. 2     $389,813,101    $863,756,051   \n",
       "4                     Beauty and the Beast     $504,014,165  $1,263,521,126   \n",
       "\n",
       "                           distributor opening_revenue opening_theaters  \\\n",
       "0  Walt Disney Studios Motion Pictures    $220,009,584            4,232   \n",
       "1                   Universal Pictures     $98,786,705            4,310   \n",
       "2                         Warner Bros.    $103,251,471            4,165   \n",
       "3  Walt Disney Studios Motion Pictures    $146,510,104            4,347   \n",
       "4  Walt Disney Studios Motion Pictures    $174,750,616            4,210   \n",
       "\n",
       "         budget   MPAA                               genres release_days  \n",
       "0  $317,000,000  PG-13      Action,Adventure,Fantasy,Sci-Fi          382  \n",
       "1  $250,000,000  PG-13            Action,Adventure,Thriller          262  \n",
       "2  $149,000,000  PG-13  Action,Adventure,Fantasy,Sci-Fi,War          217  \n",
       "3  $200,000,000  PG-13       Action,Adventure,Comedy,Sci-Fi          241  \n",
       "4  $160,000,000     PG       Family,Fantasy,Musical,Romance          290  "
      ]
     },
     "execution_count": 3,
     "metadata": {},
     "output_type": "execute_result"
    }
   ],
   "source": [
    "df = pd.read_csv('boxoffice.csv',\n",
    "                 encoding='latin-1')\n",
    "df.head()"
   ]
  },
  {
   "cell_type": "code",
   "execution_count": 4,
   "id": "7358d77b",
   "metadata": {},
   "outputs": [
    {
     "data": {
      "text/plain": [
       "(2694, 10)"
      ]
     },
     "execution_count": 4,
     "metadata": {},
     "output_type": "execute_result"
    }
   ],
   "source": [
    "df.shape"
   ]
  },
  {
   "cell_type": "code",
   "execution_count": 5,
   "id": "22e0c5da",
   "metadata": {},
   "outputs": [
    {
     "name": "stdout",
     "output_type": "stream",
     "text": [
      "<class 'pandas.core.frame.DataFrame'>\n",
      "RangeIndex: 2694 entries, 0 to 2693\n",
      "Data columns (total 10 columns):\n",
      " #   Column            Non-Null Count  Dtype \n",
      "---  ------            --------------  ----- \n",
      " 0   title             2694 non-null   object\n",
      " 1   domestic_revenue  2694 non-null   object\n",
      " 2   world_revenue     2694 non-null   object\n",
      " 3   distributor       2694 non-null   object\n",
      " 4   opening_revenue   2390 non-null   object\n",
      " 5   opening_theaters  2383 non-null   object\n",
      " 6   budget            397 non-null    object\n",
      " 7   MPAA              1225 non-null   object\n",
      " 8   genres            2655 non-null   object\n",
      " 9   release_days      2694 non-null   object\n",
      "dtypes: object(10)\n",
      "memory usage: 210.6+ KB\n"
     ]
    }
   ],
   "source": [
    "df.info()"
   ]
  },
  {
   "cell_type": "code",
   "execution_count": 6,
   "id": "4f033733",
   "metadata": {},
   "outputs": [
    {
     "data": {
      "text/html": [
       "<div>\n",
       "<style scoped>\n",
       "    .dataframe tbody tr th:only-of-type {\n",
       "        vertical-align: middle;\n",
       "    }\n",
       "\n",
       "    .dataframe tbody tr th {\n",
       "        vertical-align: top;\n",
       "    }\n",
       "\n",
       "    .dataframe thead th {\n",
       "        text-align: right;\n",
       "    }\n",
       "</style>\n",
       "<table border=\"1\" class=\"dataframe\">\n",
       "  <thead>\n",
       "    <tr style=\"text-align: right;\">\n",
       "      <th></th>\n",
       "      <th>count</th>\n",
       "      <th>unique</th>\n",
       "      <th>top</th>\n",
       "      <th>freq</th>\n",
       "    </tr>\n",
       "  </thead>\n",
       "  <tbody>\n",
       "    <tr>\n",
       "      <th>title</th>\n",
       "      <td>2694</td>\n",
       "      <td>2468</td>\n",
       "      <td>A Beautiful Planet</td>\n",
       "      <td>3</td>\n",
       "    </tr>\n",
       "    <tr>\n",
       "      <th>domestic_revenue</th>\n",
       "      <td>2694</td>\n",
       "      <td>2495</td>\n",
       "      <td>$11,272,008</td>\n",
       "      <td>3</td>\n",
       "    </tr>\n",
       "    <tr>\n",
       "      <th>world_revenue</th>\n",
       "      <td>2694</td>\n",
       "      <td>2501</td>\n",
       "      <td>$25,681,505</td>\n",
       "      <td>3</td>\n",
       "    </tr>\n",
       "    <tr>\n",
       "      <th>distributor</th>\n",
       "      <td>2694</td>\n",
       "      <td>248</td>\n",
       "      <td>Fathom Events</td>\n",
       "      <td>292</td>\n",
       "    </tr>\n",
       "    <tr>\n",
       "      <th>opening_revenue</th>\n",
       "      <td>2390</td>\n",
       "      <td>2176</td>\n",
       "      <td>$4,696</td>\n",
       "      <td>3</td>\n",
       "    </tr>\n",
       "    <tr>\n",
       "      <th>opening_theaters</th>\n",
       "      <td>2383</td>\n",
       "      <td>732</td>\n",
       "      <td>1</td>\n",
       "      <td>503</td>\n",
       "    </tr>\n",
       "    <tr>\n",
       "      <th>budget</th>\n",
       "      <td>397</td>\n",
       "      <td>124</td>\n",
       "      <td>$40,000,000</td>\n",
       "      <td>14</td>\n",
       "    </tr>\n",
       "    <tr>\n",
       "      <th>MPAA</th>\n",
       "      <td>1225</td>\n",
       "      <td>8</td>\n",
       "      <td>R</td>\n",
       "      <td>568</td>\n",
       "    </tr>\n",
       "    <tr>\n",
       "      <th>genres</th>\n",
       "      <td>2655</td>\n",
       "      <td>567</td>\n",
       "      <td>Documentary</td>\n",
       "      <td>351</td>\n",
       "    </tr>\n",
       "    <tr>\n",
       "      <th>release_days</th>\n",
       "      <td>2694</td>\n",
       "      <td>457</td>\n",
       "      <td>347</td>\n",
       "      <td>35</td>\n",
       "    </tr>\n",
       "  </tbody>\n",
       "</table>\n",
       "</div>"
      ],
      "text/plain": [
       "                 count unique                 top freq\n",
       "title             2694   2468  A Beautiful Planet    3\n",
       "domestic_revenue  2694   2495         $11,272,008    3\n",
       "world_revenue     2694   2501         $25,681,505    3\n",
       "distributor       2694    248       Fathom Events  292\n",
       "opening_revenue   2390   2176              $4,696    3\n",
       "opening_theaters  2383    732                   1  503\n",
       "budget             397    124         $40,000,000   14\n",
       "MPAA              1225      8                   R  568\n",
       "genres            2655    567         Documentary  351\n",
       "release_days      2694    457                 347   35"
      ]
     },
     "execution_count": 6,
     "metadata": {},
     "output_type": "execute_result"
    }
   ],
   "source": [
    "df.describe().T"
   ]
  },
  {
   "cell_type": "code",
   "execution_count": 7,
   "id": "1f071094",
   "metadata": {},
   "outputs": [],
   "source": [
    "#we will predict only domestic_revenue so we don't need world or openening revenue.\n",
    "to_remove = ['world_revenue', 'opening_revenue']\n",
    "df.drop(to_remove, axis=1, inplace=True)"
   ]
  },
  {
   "cell_type": "code",
   "execution_count": 8,
   "id": "92d6767d",
   "metadata": {},
   "outputs": [
    {
     "data": {
      "text/plain": [
       "title                0.000000\n",
       "domestic_revenue     0.000000\n",
       "distributor          0.000000\n",
       "opening_theaters    11.544172\n",
       "budget              85.263549\n",
       "MPAA                54.528582\n",
       "genres               1.447661\n",
       "release_days         0.000000\n",
       "dtype: float64"
      ]
     },
     "execution_count": 8,
     "metadata": {},
     "output_type": "execute_result"
    }
   ],
   "source": [
    "df.isnull().sum() * 100 / df.shape[0]"
   ]
  },
  {
   "cell_type": "code",
   "execution_count": 9,
   "id": "eb19cad8",
   "metadata": {},
   "outputs": [
    {
     "data": {
      "text/plain": [
       "0"
      ]
     },
     "execution_count": 9,
     "metadata": {},
     "output_type": "execute_result"
    }
   ],
   "source": [
    "# Handling the null value columns\n",
    "df.drop('budget', axis=1, inplace=True)\n",
    " \n",
    "for col in ['MPAA', 'genres']:\n",
    "    df[col] = df[col].fillna(df[col].mode()[0])\n",
    "    \n",
    "df.dropna(inplace=True)\n",
    " \n",
    "df.isnull().sum().sum()"
   ]
  },
  {
   "cell_type": "code",
   "execution_count": 10,
   "id": "e4419d4e",
   "metadata": {},
   "outputs": [
    {
     "data": {
      "text/plain": [
       "0       620,181,382\n",
       "1       226,008,385\n",
       "2       412,563,408\n",
       "3       389,813,101\n",
       "4       504,014,165\n",
       "           ...     \n",
       "2689    176,040,665\n",
       "2690    175,750,384\n",
       "2691    209,726,015\n",
       "2692    188,045,546\n",
       "2693    229,024,295\n",
       "Name: domestic_revenue, Length: 2383, dtype: object"
      ]
     },
     "execution_count": 10,
     "metadata": {},
     "output_type": "execute_result"
    }
   ],
   "source": [
    "df['domestic_revenue'].str[1:]"
   ]
  },
  {
   "cell_type": "code",
   "execution_count": 11,
   "id": "325f950f",
   "metadata": {},
   "outputs": [],
   "source": [
    "df['domestic_revenue'] = df['domestic_revenue'].str[1:]\n",
    " \n",
    "for col in ['domestic_revenue', 'opening_theaters', 'release_days']:\n",
    "    df[col] = df[col].str.replace(',', '')\n",
    " \n",
    "    # Selecting rows with no null values in the columns on which we are iterating.\n",
    "    temp = (~df[col].isnull())\n",
    "    df[temp][col] = df[temp][col].convert_dtypes(float)\n",
    " \n",
    "    df[col] = pd.to_numeric(df[col], errors='coerce')\n",
    " \n"
   ]
  },
  {
   "cell_type": "code",
   "execution_count": 12,
   "id": "b125dde1",
   "metadata": {},
   "outputs": [
    {
     "data": {
      "image/png": "[encoded data removed]",
      "text/plain": [
       "<Figure size 720x360 with 1 Axes>"
      ]
     },
     "metadata": {
      "needs_background": "light"
     },
     "output_type": "display_data"
    }
   ],
   "source": [
    "plt.figure(figsize=(10, 5))\n",
    "sb.countplot(df['MPAA'])\n",
    "plt.show()"
   ]
  },
  {
   "cell_type": "code",
   "execution_count": 13,
   "id": "410c525b",
   "metadata": {},
   "outputs": [
    {
     "data": {
      "text/plain": [
       "MPAA\n",
       "G            3.539276e+07\n",
       "M/PG         5.113500e+05\n",
       "NC-17        1.368800e+04\n",
       "Not Rated    4.897703e+05\n",
       "PG           5.379622e+07\n",
       "PG-13        5.891966e+07\n",
       "R            6.591336e+06\n",
       "Name: domestic_revenue, dtype: float64"
      ]
     },
     "execution_count": 13,
     "metadata": {},
     "output_type": "execute_result"
    }
   ],
   "source": [
    "df.groupby('MPAA').mean()['domestic_revenue']"
   ]
  },
  {
   "cell_type": "markdown",
   "id": "3a0f604f",
   "metadata": {},
   "source": [
    "#### we can observe that the movies with PG or PG-13 ratings generally have their revenue higher than the other rating class."
   ]
  },
  {
   "cell_type": "code",
   "execution_count": 14,
   "id": "9c8ca108",
   "metadata": {},
   "outputs": [
    {
     "data": {
      "image/png": "[encoded data removed]",
      "text/plain": [
       "<Figure size 1080x360 with 3 Axes>"
      ]
     },
     "metadata": {
      "needs_background": "light"
     },
     "output_type": "display_data"
    }
   ],
   "source": [
    "plt.subplots(figsize=(15, 5))\n",
    " \n",
    "features = ['domestic_revenue', 'opening_theaters', 'release_days']\n",
    "for i, col in enumerate(features):\n",
    "    plt.subplot(1, 3, i+1)\n",
    "    sb.distplot(df[col])\n",
    "plt.show()"
   ]
  },
  {
   "cell_type": "code",
   "execution_count": 15,
   "id": "309c7f3b",
   "metadata": {},
   "outputs": [
    {
     "data": {
      "image/png": "[encoded data removed]",
      "text/plain": [
       "<Figure size 1080x360 with 3 Axes>"
      ]
     },
     "metadata": {
      "needs_background": "light"
     },
     "output_type": "display_data"
    }
   ],
   "source": [
    "plt.subplots(figsize=(15, 5))\n",
    "for i, col in enumerate(features):\n",
    "    plt.subplot(1, 3, i+1)\n",
    "    sb.boxplot(df[col])\n",
    "plt.show()"
   ]
  },
  {
   "cell_type": "code",
   "execution_count": 16,
   "id": "37585b35",
   "metadata": {},
   "outputs": [],
   "source": [
    "for col in features:\n",
    "    df[col] = df[col].apply(lambda x: np.log10(x))"
   ]
  },
  {
   "cell_type": "code",
   "execution_count": 17,
   "id": "e7d6fbc1",
   "metadata": {},
   "outputs": [
    {
     "data": {
      "image/png": "[encoded data removed]",
      "text/plain": [
       "<Figure size 1080x360 with 3 Axes>"
      ]
     },
     "metadata": {
      "needs_background": "light"
     },
     "output_type": "display_data"
    }
   ],
   "source": [
    "plt.subplots(figsize=(15, 5))\n",
    "for i, col in enumerate(features):\n",
    "    plt.subplot(1, 3, i+1)\n",
    "    sb.distplot(df[col])\n",
    "plt.tight_layout()\n",
    "plt.show()"
   ]
  },
  {
   "cell_type": "code",
   "execution_count": 18,
   "id": "db5833f4",
   "metadata": {},
   "outputs": [],
   "source": [
    "vectorizer = CountVectorizer()\n",
    "vectorizer.fit(df['genres'])\n",
    "features = vectorizer.transform(df['genres']).toarray()\n",
    " \n",
    "genres = vectorizer.get_feature_names()\n",
    "for i, name in enumerate(genres):\n",
    "    df[name] = features[:, i]\n",
    "\n",
    "df.drop('genres', axis=1, inplace=True)"
   ]
  },
  {
   "cell_type": "code",
   "execution_count": 19,
   "id": "89102213",
   "metadata": {},
   "outputs": [
    {
     "name": "stdout",
     "output_type": "stream",
     "text": [
      "11\n",
      "(2383, 24)\n"
     ]
    }
   ],
   "source": [
    "removed = 0\n",
    "for col in df.loc[:, 'action':'western'].columns:\n",
    " \n",
    "    # Removing columns having more\n",
    "    # than 95% of the values as zero.\n",
    "    if (df[col] == 0).mean() > 0.95:\n",
    "        removed += 1\n",
    "        df.drop(col, axis=1, inplace=True)\n",
    "\n",
    "print(removed)\n",
    "print(df.shape)"
   ]
  },
  {
   "cell_type": "code",
   "execution_count": 20,
   "id": "905e3ee2",
   "metadata": {},
   "outputs": [],
   "source": [
    "for col in ['distributor', 'MPAA']:\n",
    "    le = LabelEncoder()\n",
    "    df[col] = le.fit_transform(df[col])"
   ]
  },
  {
   "cell_type": "code",
   "execution_count": 21,
   "id": "622be349",
   "metadata": {},
   "outputs": [
    {
     "data": {
      "image/png": "[encoded data removed]",
      "text/plain": [
       "<Figure size 576x576 with 1 Axes>"
      ]
     },
     "metadata": {
      "needs_background": "light"
     },
     "output_type": "display_data"
    }
   ],
   "source": [
    "plt.figure(figsize=(8, 8))\n",
    "sb.heatmap(df.corr() > 0.8,\n",
    "           annot=True,\n",
    "           cbar=False)\n",
    "plt.show()"
   ]
  },
  {
   "cell_type": "markdown",
   "id": "46199f77",
   "metadata": {},
   "source": [
    "### model development"
   ]
  },
  {
   "cell_type": "code",
   "execution_count": 22,
   "id": "6b80baf9",
   "metadata": {},
   "outputs": [],
   "source": [
    "y=df['domestic_revenue']\n",
    "x=df.drop(['domestic_revenue','title'],axis=1)"
   ]
  },
  {
   "cell_type": "code",
   "execution_count": 23,
   "id": "7d7cb4bd",
   "metadata": {},
   "outputs": [
    {
     "data": {
      "text/plain": [
       "(2383, 22)"
      ]
     },
     "execution_count": 23,
     "metadata": {},
     "output_type": "execute_result"
    }
   ],
   "source": [
    "x.shape"
   ]
  },
  {
   "cell_type": "code",
   "execution_count": 24,
   "id": "9678ae5e",
   "metadata": {},
   "outputs": [
    {
     "data": {
      "text/plain": [
       "(2383,)"
      ]
     },
     "execution_count": 24,
     "metadata": {},
     "output_type": "execute_result"
    }
   ],
   "source": [
    "y.shape"
   ]
  },
  {
   "cell_type": "code",
   "execution_count": 25,
   "id": "149d63bc",
   "metadata": {},
   "outputs": [
    {
     "name": "stdout",
     "output_type": "stream",
     "text": [
      "x train:  (1906, 22)\n",
      "x test:  (477, 22)\n",
      "y train:  (1906,)\n",
      "y test:  (477,)\n"
     ]
    }
   ],
   "source": [
    "x_train, x_test, y_train, y_test = train_test_split(x,y, test_size=0.2, random_state=1)\n",
    "print(\"x train: \", x_train.shape)\n",
    "print(\"x test: \",x_test.shape)\n",
    "print(\"y train: \", y_train.shape)\n",
    "print(\"y test: \",y_test.shape)"
   ]
  },
  {
   "cell_type": "code",
   "execution_count": 26,
   "id": "da148b8a",
   "metadata": {},
   "outputs": [],
   "source": [
    "lm=linear_model.LinearRegression()\n",
    "model=lm.fit(x_train,y_train)"
   ]
  },
  {
   "cell_type": "code",
   "execution_count": 27,
   "id": "655140c6",
   "metadata": {},
   "outputs": [
    {
     "data": {
      "text/plain": [
       "array([ 0.00172118,  0.74465146, -0.12420875,  0.84345939, -0.00874033,\n",
       "        0.1828036 , -0.22488407,  0.47027546,  0.20151888,  0.04182967,\n",
       "        0.14777921,  0.24494508, -0.12882635,  0.09046234,  0.09996713,\n",
       "        0.15114849, -0.09095475,  0.10335328,  0.13491734,  0.0417546 ,\n",
       "        0.09996713,  0.11504956])"
      ]
     },
     "execution_count": 27,
     "metadata": {},
     "output_type": "execute_result"
    }
   ],
   "source": [
    "model.coef_"
   ]
  },
  {
   "cell_type": "code",
   "execution_count": 28,
   "id": "af55c85b",
   "metadata": {},
   "outputs": [
    {
     "data": {
      "text/plain": [
       "2.7483111627860453"
      ]
     },
     "execution_count": 28,
     "metadata": {},
     "output_type": "execute_result"
    }
   ],
   "source": [
    "model.intercept_"
   ]
  },
  {
   "cell_type": "code",
   "execution_count": 29,
   "id": "c4cbd87c",
   "metadata": {},
   "outputs": [],
   "source": [
    "y_pred=model.predict(x_test)"
   ]
  },
  {
   "cell_type": "code",
   "execution_count": 30,
   "id": "13e2cec9",
   "metadata": {},
   "outputs": [
    {
     "name": "stdout",
     "output_type": "stream",
     "text": [
      "0.6485152858976331\n"
     ]
    }
   ],
   "source": [
    "print(metrics.mean_squared_error(y_test,y_pred))"
   ]
  },
  {
   "cell_type": "code",
   "execution_count": 31,
   "id": "6ec1e85f",
   "metadata": {
    "scrolled": true
   },
   "outputs": [
    {
     "data": {
      "text/html": [
       "<div>\n",
       "<style scoped>\n",
       "    .dataframe tbody tr th:only-of-type {\n",
       "        vertical-align: middle;\n",
       "    }\n",
       "\n",
       "    .dataframe tbody tr th {\n",
       "        vertical-align: top;\n",
       "    }\n",
       "\n",
       "    .dataframe thead th {\n",
       "        text-align: right;\n",
       "    }\n",
       "</style>\n",
       "<table border=\"1\" class=\"dataframe\">\n",
       "  <thead>\n",
       "    <tr style=\"text-align: right;\">\n",
       "      <th></th>\n",
       "      <th>distributor</th>\n",
       "      <th>opening_theaters</th>\n",
       "      <th>MPAA</th>\n",
       "      <th>release_days</th>\n",
       "      <th>action</th>\n",
       "      <th>adventure</th>\n",
       "      <th>animation</th>\n",
       "      <th>biography</th>\n",
       "      <th>comedy</th>\n",
       "      <th>crime</th>\n",
       "      <th>...</th>\n",
       "      <th>family</th>\n",
       "      <th>fantasy</th>\n",
       "      <th>fi</th>\n",
       "      <th>history</th>\n",
       "      <th>horror</th>\n",
       "      <th>music</th>\n",
       "      <th>mystery</th>\n",
       "      <th>romance</th>\n",
       "      <th>sci</th>\n",
       "      <th>thriller</th>\n",
       "    </tr>\n",
       "  </thead>\n",
       "  <tbody>\n",
       "    <tr>\n",
       "      <th>0</th>\n",
       "      <td>217</td>\n",
       "      <td>3.626546</td>\n",
       "      <td>5</td>\n",
       "      <td>2.582063</td>\n",
       "      <td>1</td>\n",
       "      <td>1</td>\n",
       "      <td>0</td>\n",
       "      <td>0</td>\n",
       "      <td>0</td>\n",
       "      <td>0</td>\n",
       "      <td>...</td>\n",
       "      <td>0</td>\n",
       "      <td>1</td>\n",
       "      <td>1</td>\n",
       "      <td>0</td>\n",
       "      <td>0</td>\n",
       "      <td>0</td>\n",
       "      <td>0</td>\n",
       "      <td>0</td>\n",
       "      <td>1</td>\n",
       "      <td>0</td>\n",
       "    </tr>\n",
       "    <tr>\n",
       "      <th>1</th>\n",
       "      <td>208</td>\n",
       "      <td>3.634477</td>\n",
       "      <td>5</td>\n",
       "      <td>2.418301</td>\n",
       "      <td>1</td>\n",
       "      <td>1</td>\n",
       "      <td>0</td>\n",
       "      <td>0</td>\n",
       "      <td>0</td>\n",
       "      <td>0</td>\n",
       "      <td>...</td>\n",
       "      <td>0</td>\n",
       "      <td>0</td>\n",
       "      <td>0</td>\n",
       "      <td>0</td>\n",
       "      <td>0</td>\n",
       "      <td>0</td>\n",
       "      <td>0</td>\n",
       "      <td>0</td>\n",
       "      <td>0</td>\n",
       "      <td>1</td>\n",
       "    </tr>\n",
       "    <tr>\n",
       "      <th>2</th>\n",
       "      <td>218</td>\n",
       "      <td>3.619615</td>\n",
       "      <td>5</td>\n",
       "      <td>2.336460</td>\n",
       "      <td>1</td>\n",
       "      <td>1</td>\n",
       "      <td>0</td>\n",
       "      <td>0</td>\n",
       "      <td>0</td>\n",
       "      <td>0</td>\n",
       "      <td>...</td>\n",
       "      <td>0</td>\n",
       "      <td>1</td>\n",
       "      <td>1</td>\n",
       "      <td>0</td>\n",
       "      <td>0</td>\n",
       "      <td>0</td>\n",
       "      <td>0</td>\n",
       "      <td>0</td>\n",
       "      <td>1</td>\n",
       "      <td>0</td>\n",
       "    </tr>\n",
       "    <tr>\n",
       "      <th>3</th>\n",
       "      <td>217</td>\n",
       "      <td>3.638190</td>\n",
       "      <td>5</td>\n",
       "      <td>2.382017</td>\n",
       "      <td>1</td>\n",
       "      <td>1</td>\n",
       "      <td>0</td>\n",
       "      <td>0</td>\n",
       "      <td>1</td>\n",
       "      <td>0</td>\n",
       "      <td>...</td>\n",
       "      <td>0</td>\n",
       "      <td>0</td>\n",
       "      <td>1</td>\n",
       "      <td>0</td>\n",
       "      <td>0</td>\n",
       "      <td>0</td>\n",
       "      <td>0</td>\n",
       "      <td>0</td>\n",
       "      <td>1</td>\n",
       "      <td>0</td>\n",
       "    </tr>\n",
       "    <tr>\n",
       "      <th>4</th>\n",
       "      <td>217</td>\n",
       "      <td>3.624282</td>\n",
       "      <td>4</td>\n",
       "      <td>2.462398</td>\n",
       "      <td>0</td>\n",
       "      <td>0</td>\n",
       "      <td>0</td>\n",
       "      <td>0</td>\n",
       "      <td>0</td>\n",
       "      <td>0</td>\n",
       "      <td>...</td>\n",
       "      <td>1</td>\n",
       "      <td>1</td>\n",
       "      <td>0</td>\n",
       "      <td>0</td>\n",
       "      <td>0</td>\n",
       "      <td>0</td>\n",
       "      <td>0</td>\n",
       "      <td>1</td>\n",
       "      <td>0</td>\n",
       "      <td>0</td>\n",
       "    </tr>\n",
       "  </tbody>\n",
       "</table>\n",
       "<p>5 rows × 22 columns</p>\n",
       "</div>"
      ],
      "text/plain": [
       "   distributor  opening_theaters  MPAA  release_days  action  adventure  \\\n",
       "0          217          3.626546     5      2.582063       1          1   \n",
       "1          208          3.634477     5      2.418301       1          1   \n",
       "2          218          3.619615     5      2.336460       1          1   \n",
       "3          217          3.638190     5      2.382017       1          1   \n",
       "4          217          3.624282     4      2.462398       0          0   \n",
       "\n",
       "   animation  biography  comedy  crime  ...  family  fantasy  fi  history  \\\n",
       "0          0          0       0      0  ...       0        1   1        0   \n",
       "1          0          0       0      0  ...       0        0   0        0   \n",
       "2          0          0       0      0  ...       0        1   1        0   \n",
       "3          0          0       1      0  ...       0        0   1        0   \n",
       "4          0          0       0      0  ...       1        1   0        0   \n",
       "\n",
       "   horror  music  mystery  romance  sci  thriller  \n",
       "0       0      0        0        0    1         0  \n",
       "1       0      0        0        0    0         1  \n",
       "2       0      0        0        0    1         0  \n",
       "3       0      0        0        0    1         0  \n",
       "4       0      0        0        1    0         0  \n",
       "\n",
       "[5 rows x 22 columns]"
      ]
     },
     "execution_count": 31,
     "metadata": {},
     "output_type": "execute_result"
    }
   ],
   "source": [
    "x.head()"
   ]
  },
  {
   "cell_type": "code",
   "execution_count": 32,
   "id": "bb284ca6",
   "metadata": {},
   "outputs": [
    {
     "name": "stdout",
     "output_type": "stream",
     "text": [
      "[7.84360103]\n"
     ]
    }
   ],
   "source": [
    "testdata=[[217,3.626546,5,2.582063,1,1,0,0,0,0,0,0,0,1,1,0,0,0,0,0,1,0]]\n",
    "print(model.predict(testdata))"
   ]
  },
  {
   "cell_type": "code",
   "execution_count": 33,
   "id": "a79adeca",
   "metadata": {},
   "outputs": [
    {
     "data": {
      "text/plain": [
       "0    8.792519\n",
       "1    8.354125\n",
       "2    8.615491\n",
       "3    8.590856\n",
       "4    8.702443\n",
       "Name: domestic_revenue, dtype: float64"
      ]
     },
     "execution_count": 33,
     "metadata": {},
     "output_type": "execute_result"
    }
   ],
   "source": [
    "y.head()"
   ]
  },
  {
   "cell_type": "code",
   "execution_count": 34,
   "id": "46825d83",
   "metadata": {},
   "outputs": [
    {
     "name": "stdout",
     "output_type": "stream",
     "text": [
      "      distributor  opening_theaters  MPAA  release_days  action  adventure  \\\n",
      "0             217          3.626546     5      2.582063       1          1   \n",
      "1             208          3.634477     5      2.418301       1          1   \n",
      "2             218          3.619615     5      2.336460       1          1   \n",
      "3             217          3.638190     5      2.382017       1          1   \n",
      "4             217          3.624282     4      2.462398       0          0   \n",
      "...           ...               ...   ...           ...     ...        ...   \n",
      "2689          208          3.444201     6      2.829947       0          0   \n",
      "2690          218          3.611511     4      2.511883       1          0   \n",
      "2691          217          3.600646     4      2.607455       0          1   \n",
      "2692          218          3.570543     5      2.225309       1          0   \n",
      "2693          218          3.607562     5      2.612784       1          1   \n",
      "\n",
      "      animation  biography  comedy  crime  ...  family  fantasy  fi  history  \\\n",
      "0             0          0       0      0  ...       0        1   1        0   \n",
      "1             0          0       0      0  ...       0        0   0        0   \n",
      "2             0          0       0      0  ...       0        1   1        0   \n",
      "3             0          0       1      0  ...       0        0   1        0   \n",
      "4             0          0       0      0  ...       1        1   0        0   \n",
      "...         ...        ...     ...    ...  ...     ...      ...  ..      ...   \n",
      "2689          0          0       0      0  ...       0        0   0        0   \n",
      "2690          1          0       1      0  ...       1        0   0        0   \n",
      "2691          1          0       0      0  ...       1        1   0        0   \n",
      "2692          0          0       0      0  ...       0        0   0        1   \n",
      "2693          0          0       0      0  ...       0        1   1        0   \n",
      "\n",
      "      horror  music  mystery  romance  sci  thriller  \n",
      "0          0      0        0        0    1         0  \n",
      "1          0      0        0        0    0         1  \n",
      "2          0      0        0        0    1         0  \n",
      "3          0      0        0        0    1         0  \n",
      "4          0      0        0        1    0         0  \n",
      "...      ...    ...      ...      ...  ...       ...  \n",
      "2689       1      0        1        0    0         1  \n",
      "2690       0      0        0        0    0         0  \n",
      "2691       0      1        1        0    0         0  \n",
      "2692       0      0        0        0    0         1  \n",
      "2693       0      0        0        0    1         0  \n",
      "\n",
      "[2383 rows x 22 columns]\n"
     ]
    }
   ],
   "source": [
    "print(x)"
   ]
  },
  {
   "cell_type": "code",
   "execution_count": 35,
   "id": "6ed37087",
   "metadata": {},
   "outputs": [
    {
     "data": {
      "text/html": [
       "<div>\n",
       "<style scoped>\n",
       "    .dataframe tbody tr th:only-of-type {\n",
       "        vertical-align: middle;\n",
       "    }\n",
       "\n",
       "    .dataframe tbody tr th {\n",
       "        vertical-align: top;\n",
       "    }\n",
       "\n",
       "    .dataframe thead th {\n",
       "        text-align: right;\n",
       "    }\n",
       "</style>\n",
       "<table border=\"1\" class=\"dataframe\">\n",
       "  <thead>\n",
       "    <tr style=\"text-align: right;\">\n",
       "      <th></th>\n",
       "      <th>distributor</th>\n",
       "      <th>opening_theaters</th>\n",
       "      <th>MPAA</th>\n",
       "      <th>release_days</th>\n",
       "      <th>action</th>\n",
       "      <th>adventure</th>\n",
       "      <th>animation</th>\n",
       "      <th>biography</th>\n",
       "      <th>comedy</th>\n",
       "      <th>crime</th>\n",
       "      <th>...</th>\n",
       "      <th>family</th>\n",
       "      <th>fantasy</th>\n",
       "      <th>fi</th>\n",
       "      <th>history</th>\n",
       "      <th>horror</th>\n",
       "      <th>music</th>\n",
       "      <th>mystery</th>\n",
       "      <th>romance</th>\n",
       "      <th>sci</th>\n",
       "      <th>thriller</th>\n",
       "    </tr>\n",
       "  </thead>\n",
       "  <tbody>\n",
       "    <tr>\n",
       "      <th>count</th>\n",
       "      <td>2383.000000</td>\n",
       "      <td>2383.000000</td>\n",
       "      <td>2383.000000</td>\n",
       "      <td>2383.000000</td>\n",
       "      <td>2383.000000</td>\n",
       "      <td>2383.000000</td>\n",
       "      <td>2383.000000</td>\n",
       "      <td>2383.000000</td>\n",
       "      <td>2383.000000</td>\n",
       "      <td>2383.000000</td>\n",
       "      <td>...</td>\n",
       "      <td>2383.000000</td>\n",
       "      <td>2383.000000</td>\n",
       "      <td>2383.000000</td>\n",
       "      <td>2383.000000</td>\n",
       "      <td>2383.000000</td>\n",
       "      <td>2383.000000</td>\n",
       "      <td>2383.000000</td>\n",
       "      <td>2383.000000</td>\n",
       "      <td>2383.000000</td>\n",
       "      <td>2383.000000</td>\n",
       "    </tr>\n",
       "    <tr>\n",
       "      <th>mean</th>\n",
       "      <td>122.852287</td>\n",
       "      <td>1.409804</td>\n",
       "      <td>5.574486</td>\n",
       "      <td>2.351830</td>\n",
       "      <td>0.151490</td>\n",
       "      <td>0.123374</td>\n",
       "      <td>0.063366</td>\n",
       "      <td>0.118758</td>\n",
       "      <td>0.234159</td>\n",
       "      <td>0.110365</td>\n",
       "      <td>...</td>\n",
       "      <td>0.074696</td>\n",
       "      <td>0.096937</td>\n",
       "      <td>0.071758</td>\n",
       "      <td>0.070919</td>\n",
       "      <td>0.076374</td>\n",
       "      <td>0.053714</td>\n",
       "      <td>0.079312</td>\n",
       "      <td>0.126731</td>\n",
       "      <td>0.071758</td>\n",
       "      <td>0.172052</td>\n",
       "    </tr>\n",
       "    <tr>\n",
       "      <th>std</th>\n",
       "      <td>63.921611</td>\n",
       "      <td>1.306028</td>\n",
       "      <td>0.893706</td>\n",
       "      <td>0.303659</td>\n",
       "      <td>0.358601</td>\n",
       "      <td>0.328935</td>\n",
       "      <td>0.243670</td>\n",
       "      <td>0.323571</td>\n",
       "      <td>0.423561</td>\n",
       "      <td>0.313410</td>\n",
       "      <td>...</td>\n",
       "      <td>0.262955</td>\n",
       "      <td>0.295934</td>\n",
       "      <td>0.258141</td>\n",
       "      <td>0.256743</td>\n",
       "      <td>0.265652</td>\n",
       "      <td>0.225499</td>\n",
       "      <td>0.270281</td>\n",
       "      <td>0.332741</td>\n",
       "      <td>0.258141</td>\n",
       "      <td>0.377505</td>\n",
       "    </tr>\n",
       "    <tr>\n",
       "      <th>min</th>\n",
       "      <td>0.000000</td>\n",
       "      <td>0.000000</td>\n",
       "      <td>0.000000</td>\n",
       "      <td>1.079181</td>\n",
       "      <td>0.000000</td>\n",
       "      <td>0.000000</td>\n",
       "      <td>0.000000</td>\n",
       "      <td>0.000000</td>\n",
       "      <td>0.000000</td>\n",
       "      <td>0.000000</td>\n",
       "      <td>...</td>\n",
       "      <td>0.000000</td>\n",
       "      <td>0.000000</td>\n",
       "      <td>0.000000</td>\n",
       "      <td>0.000000</td>\n",
       "      <td>0.000000</td>\n",
       "      <td>0.000000</td>\n",
       "      <td>0.000000</td>\n",
       "      <td>0.000000</td>\n",
       "      <td>0.000000</td>\n",
       "      <td>0.000000</td>\n",
       "    </tr>\n",
       "    <tr>\n",
       "      <th>25%</th>\n",
       "      <td>75.000000</td>\n",
       "      <td>0.301030</td>\n",
       "      <td>5.000000</td>\n",
       "      <td>2.158362</td>\n",
       "      <td>0.000000</td>\n",
       "      <td>0.000000</td>\n",
       "      <td>0.000000</td>\n",
       "      <td>0.000000</td>\n",
       "      <td>0.000000</td>\n",
       "      <td>0.000000</td>\n",
       "      <td>...</td>\n",
       "      <td>0.000000</td>\n",
       "      <td>0.000000</td>\n",
       "      <td>0.000000</td>\n",
       "      <td>0.000000</td>\n",
       "      <td>0.000000</td>\n",
       "      <td>0.000000</td>\n",
       "      <td>0.000000</td>\n",
       "      <td>0.000000</td>\n",
       "      <td>0.000000</td>\n",
       "      <td>0.000000</td>\n",
       "    </tr>\n",
       "    <tr>\n",
       "      <th>50%</th>\n",
       "      <td>116.000000</td>\n",
       "      <td>0.903090</td>\n",
       "      <td>6.000000</td>\n",
       "      <td>2.408240</td>\n",
       "      <td>0.000000</td>\n",
       "      <td>0.000000</td>\n",
       "      <td>0.000000</td>\n",
       "      <td>0.000000</td>\n",
       "      <td>0.000000</td>\n",
       "      <td>0.000000</td>\n",
       "      <td>...</td>\n",
       "      <td>0.000000</td>\n",
       "      <td>0.000000</td>\n",
       "      <td>0.000000</td>\n",
       "      <td>0.000000</td>\n",
       "      <td>0.000000</td>\n",
       "      <td>0.000000</td>\n",
       "      <td>0.000000</td>\n",
       "      <td>0.000000</td>\n",
       "      <td>0.000000</td>\n",
       "      <td>0.000000</td>\n",
       "    </tr>\n",
       "    <tr>\n",
       "      <th>75%</th>\n",
       "      <td>181.000000</td>\n",
       "      <td>2.717253</td>\n",
       "      <td>6.000000</td>\n",
       "      <td>2.549003</td>\n",
       "      <td>0.000000</td>\n",
       "      <td>0.000000</td>\n",
       "      <td>0.000000</td>\n",
       "      <td>0.000000</td>\n",
       "      <td>0.000000</td>\n",
       "      <td>0.000000</td>\n",
       "      <td>...</td>\n",
       "      <td>0.000000</td>\n",
       "      <td>0.000000</td>\n",
       "      <td>0.000000</td>\n",
       "      <td>0.000000</td>\n",
       "      <td>0.000000</td>\n",
       "      <td>0.000000</td>\n",
       "      <td>0.000000</td>\n",
       "      <td>0.000000</td>\n",
       "      <td>0.000000</td>\n",
       "      <td>0.000000</td>\n",
       "    </tr>\n",
       "    <tr>\n",
       "      <th>max</th>\n",
       "      <td>226.000000</td>\n",
       "      <td>3.674402</td>\n",
       "      <td>6.000000</td>\n",
       "      <td>3.813381</td>\n",
       "      <td>1.000000</td>\n",
       "      <td>1.000000</td>\n",
       "      <td>1.000000</td>\n",
       "      <td>1.000000</td>\n",
       "      <td>1.000000</td>\n",
       "      <td>1.000000</td>\n",
       "      <td>...</td>\n",
       "      <td>1.000000</td>\n",
       "      <td>1.000000</td>\n",
       "      <td>1.000000</td>\n",
       "      <td>1.000000</td>\n",
       "      <td>1.000000</td>\n",
       "      <td>1.000000</td>\n",
       "      <td>1.000000</td>\n",
       "      <td>1.000000</td>\n",
       "      <td>1.000000</td>\n",
       "      <td>1.000000</td>\n",
       "    </tr>\n",
       "  </tbody>\n",
       "</table>\n",
       "<p>8 rows × 22 columns</p>\n",
       "</div>"
      ],
      "text/plain": [
       "       distributor  opening_theaters         MPAA  release_days       action  \\\n",
       "count  2383.000000       2383.000000  2383.000000   2383.000000  2383.000000   \n",
       "mean    122.852287          1.409804     5.574486      2.351830     0.151490   \n",
       "std      63.921611          1.306028     0.893706      0.303659     0.358601   \n",
       "min       0.000000          0.000000     0.000000      1.079181     0.000000   \n",
       "25%      75.000000          0.301030     5.000000      2.158362     0.000000   \n",
       "50%     116.000000          0.903090     6.000000      2.408240     0.000000   \n",
       "75%     181.000000          2.717253     6.000000      2.549003     0.000000   \n",
       "max     226.000000          3.674402     6.000000      3.813381     1.000000   \n",
       "\n",
       "         adventure    animation    biography       comedy        crime  ...  \\\n",
       "count  2383.000000  2383.000000  2383.000000  2383.000000  2383.000000  ...   \n",
       "mean      0.123374     0.063366     0.118758     0.234159     0.110365  ...   \n",
       "std       0.328935     0.243670     0.323571     0.423561     0.313410  ...   \n",
       "min       0.000000     0.000000     0.000000     0.000000     0.000000  ...   \n",
       "25%       0.000000     0.000000     0.000000     0.000000     0.000000  ...   \n",
       "50%       0.000000     0.000000     0.000000     0.000000     0.000000  ...   \n",
       "75%       0.000000     0.000000     0.000000     0.000000     0.000000  ...   \n",
       "max       1.000000     1.000000     1.000000     1.000000     1.000000  ...   \n",
       "\n",
       "            family      fantasy           fi      history       horror  \\\n",
       "count  2383.000000  2383.000000  2383.000000  2383.000000  2383.000000   \n",
       "mean      0.074696     0.096937     0.071758     0.070919     0.076374   \n",
       "std       0.262955     0.295934     0.258141     0.256743     0.265652   \n",
       "min       0.000000     0.000000     0.000000     0.000000     0.000000   \n",
       "25%       0.000000     0.000000     0.000000     0.000000     0.000000   \n",
       "50%       0.000000     0.000000     0.000000     0.000000     0.000000   \n",
       "75%       0.000000     0.000000     0.000000     0.000000     0.000000   \n",
       "max       1.000000     1.000000     1.000000     1.000000     1.000000   \n",
       "\n",
       "             music      mystery      romance          sci     thriller  \n",
       "count  2383.000000  2383.000000  2383.000000  2383.000000  2383.000000  \n",
       "mean      0.053714     0.079312     0.126731     0.071758     0.172052  \n",
       "std       0.225499     0.270281     0.332741     0.258141     0.377505  \n",
       "min       0.000000     0.000000     0.000000     0.000000     0.000000  \n",
       "25%       0.000000     0.000000     0.000000     0.000000     0.000000  \n",
       "50%       0.000000     0.000000     0.000000     0.000000     0.000000  \n",
       "75%       0.000000     0.000000     0.000000     0.000000     0.000000  \n",
       "max       1.000000     1.000000     1.000000     1.000000     1.000000  \n",
       "\n",
       "[8 rows x 22 columns]"
      ]
     },
     "execution_count": 35,
     "metadata": {},
     "output_type": "execute_result"
    }
   ],
   "source": [
    "x.describe()"
   ]
  },
  {
   "cell_type": "code",
   "execution_count": null,
   "id": "a45bf2a7",
   "metadata": {},
   "outputs": [],
   "source": []
  }
 ],
 "metadata": {
  "kernelspec": {
   "display_name": "Python 3 (ipykernel)",
   "language": "python",
   "name": "python3"
  },
  "language_info": {
   "codemirror_mode": {
    "name": "ipython",
    "version": 3
   },
   "file_extension": ".py",
   "mimetype": "text/x-python",
   "name": "python",
   "nbconvert_exporter": "python",
   "pygments_lexer": "ipython3",
   "version": "3.9.12"
  }
 },
 "nbformat": 4,
 "nbformat_minor": 5
}
